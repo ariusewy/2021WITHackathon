{
 "cells": [
  {
   "cell_type": "code",
   "execution_count": 1,
   "metadata": {},
   "outputs": [
    {
     "data": {
      "application/javascript": [
       "\n",
       "try {\n",
       "require(['notebook/js/codecell'], function(codecell) {\n",
       "  codecell.CodeCell.options_default.highlight_modes[\n",
       "      'magic_text/x-csrc'] = {'reg':[/^%%microblaze/]};\n",
       "  Jupyter.notebook.events.one('kernel_ready.Kernel', function(){\n",
       "      Jupyter.notebook.get_cells().map(function(cell){\n",
       "          if (cell.cell_type == 'code'){ cell.auto_highlight(); } }) ;\n",
       "  });\n",
       "});\n",
       "} catch (e) {};\n"
      ]
     },
     "metadata": {},
     "output_type": "display_data"
    },
    {
     "data": {
      "application/javascript": [
       "\n",
       "try {\n",
       "require(['notebook/js/codecell'], function(codecell) {\n",
       "  codecell.CodeCell.options_default.highlight_modes[\n",
       "      'magic_text/x-csrc'] = {'reg':[/^%%pybind11/]};\n",
       "  Jupyter.notebook.events.one('kernel_ready.Kernel', function(){\n",
       "      Jupyter.notebook.get_cells().map(function(cell){\n",
       "          if (cell.cell_type == 'code'){ cell.auto_highlight(); } }) ;\n",
       "  });\n",
       "});\n",
       "} catch (e) {};\n"
      ]
     },
     "metadata": {},
     "output_type": "display_data"
    }
   ],
   "source": [
    "from pynq.overlays.base import BaseOverlay\n",
    "from pynq_peripherals import PmodGroveAdapter, ArduinoSEEEDGroveAdapter,ArduinoDIGILENTGroveAdapter\n",
    "from dfrobot import PynqCar\n",
    "base = BaseOverlay('base.bit')"
   ]
  },
  {
   "cell_type": "code",
   "execution_count": 14,
   "metadata": {},
   "outputs": [],
   "source": [
    "from __future__ import print_function\n",
    "from ipywidgets import interact, interactive, fixed, interact_manual\n",
    "import ipywidgets as widgets\n",
    "import time"
   ]
  },
  {
   "cell_type": "code",
   "execution_count": 17,
   "metadata": {},
   "outputs": [],
   "source": [
    "#外设定义\n",
    "adapter_A = PmodGroveAdapter(base.PMODA, G4='geared_motor')\n",
    "adapter_B = PmodGroveAdapter(base.PMODB, G4='geared_motor',G1='grove_line_finder',G2='grove_line_finder')\n",
    "ARDUINO_adapter = ArduinoDIGILENTGroveAdapter(base.ARDUINO, G1='grove_usranger')\n",
    "right_motor = adapter_A.G4\n",
    "left_motor = adapter_B.G4\n",
    "left_line_finder = adapter_B.G1\n",
    "right_line_finder = adapter_B.G2\n",
    "usranger = ARDUINO_adapter.G1\n",
    "#外设初始化\n",
    "right_motor.backward()\n",
    "left_motor.backward()\n",
    "right_motor.set_speed(0)\n",
    "left_motor.set_speed(0)"
   ]
  },
  {
   "cell_type": "code",
   "execution_count": 19,
   "metadata": {},
   "outputs": [
    {
     "name": "stdout",
     "output_type": "stream",
     "text": [
      "distance: 19.33 cm\n",
      "False\n",
      "False\n"
     ]
    }
   ],
   "source": [
    "# 传感器测试\n",
    "print('\\r' + 'distance: {:.2f} cm'.format(usranger.get_distance())+'left_line_finder:{}'.format(left_line_finder.line_found())+'right_line_finder:{}'.format(right_line_finder.line_found()), end='', flush=True)"
   ]
  },
  {
   "cell_type": "code",
   "execution_count": null,
   "metadata": {},
   "outputs": [],
   "source": [
    "# 小车 Class 定义\n",
    "class PynqCar():\n",
    "    def __init__(self, left_motor, right_motor):\n",
    "        self.left_motor = left_motor\n",
    "        self.right_motor = right_motor\n",
    "        self.speed = 0\n",
    "        self.speed_offset = 0\n",
    "        self.speed_diff = 0\n",
    "        self.stop()\n",
    "        \n",
    "    def set_speed(self, speed):\n",
    "        if (abs(speed)+abs(self.speed_offset)+abs(self.speed_diff) < 100):\n",
    "            self.speed = speed\n",
    "            left_speed = self.speed+self.speed_offset+self.speed_diff\n",
    "            right_speed = self.speed-self.speed_offset-self.speed_diff\n",
    "            print('\\r' + 'left:{}'.format(left_speed)+'right:{}'.format(right_speed), end='', flush=True)\n",
    "            if left_speed < 0:\n",
    "                self.left_motor.backward()\n",
    "                self.left_motor.set_speed(0-left_speed)\n",
    "            else:\n",
    "                self.left_motor.forward()\n",
    "                self.left_motor.set_speed(left_speed)\n",
    "            if right_speed < 0:\n",
    "                self.right_motor.backward()\n",
    "                self.right_motor.set_speed(0-right_speed)\n",
    "            else:\n",
    "                self.right_motor.forward()\n",
    "                self.right_motor.set_speed(right_speed)\n",
    "        else:\n",
    "            print(\"Error: Speed must be -100 to 100\")\n",
    "            \n",
    "    def stop(self):\n",
    "        self.right_motor.set_speed(0)\n",
    "        self.left_motor.set_speed(0)\n",
    "        \n",
    "    def steering(self,diff,speed):\n",
    "        self.speed_diff = diff\n",
    "        self.set_speed(speed)\n",
    "    \n",
    "    def trun_left(self,speed,low=0):\n",
    "        self.left_motor.backward()\n",
    "        self.right_motor.forward()\n",
    "        self.left_motor.set_speed(low)\n",
    "        self.right_motor.set_speed(speed)\n",
    "        \n",
    "    def trun_right(self,speed,low=0):\n",
    "        self.left_motor.forward()\n",
    "        self.right_motor.backward()\n",
    "        self.left_motor.set_speed(speed)\n",
    "        self.right_motor.set_speed(low)    \n",
    "        \n",
    "    def left(self,t,speed):\n",
    "        self.left_motor.backward()\n",
    "        self.right_motor.forward()\n",
    "        self.left_motor.set_speed(speed)\n",
    "        self.right_motor.set_speed(speed)\n",
    "        time.sleep(t)\n",
    "        self.set_speed(self.speed)\n",
    "        \n",
    "    def right(self,t,speed):\n",
    "        self.left_motor.forward()\n",
    "        self.right_motor.backward()\n",
    "        self.left_motor.set_speed(speed)\n",
    "        self.right_motor.set_speed(speed)\n",
    "        time.sleep(t)\n",
    "        self.set_speed(self.speed)"
   ]
  },
  {
   "cell_type": "code",
   "execution_count": 24,
   "metadata": {},
   "outputs": [],
   "source": [
    "car = PynqCar(left_motor, right_motor)"
   ]
  },
  {
   "cell_type": "code",
   "execution_count": 30,
   "metadata": {},
   "outputs": [
    {
     "name": "stdout",
     "output_type": "stream",
     "text": [
      "\r\n",
      "left:0right:0"
     ]
    }
   ],
   "source": [
    "#固定误差调试\n",
    "def stright_test(speed):\n",
    "    car.set_speed(speed)\n",
    "    time.sleep(3)\n",
    "    car.stop()\n",
    "    \n",
    "btn = widgets.Button(description='stright_test')\n",
    "display(btn)\n",
    "def btn_eventhandler(obj):\n",
    "    stright_test(50)\n",
    "    \n",
    "btn.on_click(btn_eventhandler)"
   ]
  },
  {
   "cell_type": "code",
   "execution_count": null,
   "metadata": {},
   "outputs": [],
   "source": [
    "#左右90度转弯调试\n",
    "btn1 = widgets.Button(description='Left_Test')\n",
    "btn2 = widgets.Button(description='Right_Test')\n",
    "display(btn1)\n",
    "display(btn2)\n",
    "def btn1_eventhandler(obj):\n",
    "    car.left(0.3,91)\n",
    "\n",
    "def btn2_eventhandler(obj):\n",
    "    car.right(0.3,87)\n",
    "    \n",
    "btn1.on_click(btn1_eventhandler)\n",
    "btn2.on_click(btn2_eventhandler)"
   ]
  },
  {
   "cell_type": "code",
   "execution_count": null,
   "metadata": {},
   "outputs": [],
   "source": [
    "#中间巡线方法\n",
    "def Navigation_B(B_diff,B_speed,threshold):\n",
    "    car.speed_offset = -1\n",
    "    car.speed_diff = 0\n",
    "    car.set_speed(B_speed)\n",
    "    flag = 0\n",
    "    while True:\n",
    "            left = left_line_finder.line_found()\n",
    "            right = right_line_finder.line_found()\n",
    "            if flag > threshold:\n",
    "                print('FOUND BlackLine---> convert to mode A')\n",
    "                car.stop()\n",
    "                break\n",
    "            elif not left and  not right :\n",
    "                car.set_speed(B_speed)\n",
    "            elif left and not right:\n",
    "                car.trun_left(B_diff)\n",
    "            elif not left and right:\n",
    "                car.trun_right(B_diff)\n",
    "            elif left and  right:\n",
    "                flag = flag + 1 \n",
    "            else:\n",
    "                car.stop()"
   ]
  },
  {
   "cell_type": "code",
   "execution_count": null,
   "metadata": {},
   "outputs": [],
   "source": [
    "#两边巡线方法\n",
    "def Navigation_A(A_diff,A_speed,distance_T,threshold,turnlist=['right','left']):\n",
    "    car.speed_offset = -1\n",
    "    car.speed_diff = 0\n",
    "    car.set_speed(A_speed)\n",
    "    flag = 0\n",
    "    turn_number = 0\n",
    "    Final = False\n",
    "    while True:\n",
    "        distance = usranger.get_distance()\n",
    "        left = left_line_finder.line_found()\n",
    "        right = right_line_finder.line_found()\n",
    "        #print('\\r' + '{:.2f}'.format(distance)+'flag:{}'.format(flag), end='', flush=True)\n",
    "        if 0< distance <distance_T :\n",
    "            flag = flag+1\n",
    "        else:\n",
    "            flag = flag\n",
    "\n",
    "        if Final and left and right:\n",
    "            car.steering(0,A_speed)\n",
    "            time.sleep(0.5)\n",
    "            car.stop()\n",
    "            print('Success')\n",
    "            break\n",
    "        else:\n",
    "            pass\n",
    "        \n",
    "        if not left and not right and flag<threshold:\n",
    "            car.steering(0,A_speed+25)\n",
    "        elif not left and right and flag<threshold:\n",
    "            car.steering(0-A_diff,A_speed)  \n",
    "            #car.trun_left(A_diff)\n",
    "        elif left and not right and flag<threshold:\n",
    "            car.steering(A_diff,A_speed)\n",
    "            #car.trun_right(A_diff)\n",
    "        elif flag>threshold:\n",
    "            if turn_number<len(turnlist) and turnlist[turn_number] == 'right':\n",
    "                car.right(0.3,87)\n",
    "            elif turn_number<len(turnlist) and turnlist[turn_number] == 'left':\n",
    "                car.left(0.3,91)\n",
    "            else :\n",
    "                print('----+----+----- Preset turn completed ----+---- Please Check ---+---+-')\n",
    "                car.stop()\n",
    "            turn_number = turn_number + 1\n",
    "            flag = 0\n",
    "            if turn_number == len(turnlist):#直角转弯结束寻找终点线\n",
    "                Final = True\n",
    "        else:\n",
    "            pass\n",
    "            #car.stop()"
   ]
  },
  {
   "cell_type": "code",
   "execution_count": null,
   "metadata": {},
   "outputs": [],
   "source": [
    "#Top Level 函数\n",
    "def Navigation(B_diff,B_speed,threshold,A_diff,A_speed,distance_T,turnlist):\n",
    "    car.speed_offset = -1\n",
    "    car.speed_diff = 0\n",
    "    car.set_speed(80)  \n",
    "    time.sleep(0.3)\n",
    "    Navigation_B(B_diff,B_speed,threshold)\n",
    "    Navigation_A(A_diff,A_speed,distance_T,threshold,turnlist)"
   ]
  },
  {
   "cell_type": "code",
   "execution_count": null,
   "metadata": {},
   "outputs": [],
   "source": [
    "#中间巡线测试\n",
    "btn3 = widgets.Button(description='PATH_B')\n",
    "display(btn3)\n",
    "def btn3_eventhandler(obj):\n",
    "    time_start = time.time()\n",
    "    Navigation_B(80,85,5)\n",
    "    time_end = time.time()\n",
    "    print('Time:{}'.format(time_end-time_start))\n",
    "    \n",
    "btn3.on_click(btn3_eventhandler)"
   ]
  },
  {
   "cell_type": "code",
   "execution_count": null,
   "metadata": {},
   "outputs": [],
   "source": [
    "#两边巡线测试\n",
    "turnlist=['right','left']\n",
    "btn4 = widgets.Button(description='PATH_A')\n",
    "display(btn4)\n",
    "def btn4_eventhandler(obj):\n",
    "    time_start = time.time()\n",
    "    Navigation_A(28,70,16,3,turnlist)\n",
    "    time_end = time.time()\n",
    "    print('Time:{}'.format(time_end-time_start))\n",
    "    \n",
    "btn3.on_click(btn3_eventhandler)"
   ]
  },
  {
   "cell_type": "code",
   "execution_count": null,
   "metadata": {},
   "outputs": [],
   "source": [
    "#综合测试\n",
    "turnlist=['right','left']\n",
    "btn5 = widgets.Button(description='GO')\n",
    "display(btn5)\n",
    "def btn5_eventhandler(obj):\n",
    "    time_start = time.time()\n",
    "    Navigation(B_diff=70,B_speed=70,threshold=5,\n",
    "               A_diff=28,A_speed=70,distance_T=18,turnlist)\n",
    "    time_end = time.time()\n",
    "    print('Time:{}'.format(time_end-time_start))\n",
    "    \n",
    "btn5.on_click(btn5_eventhandler)"
   ]
  },
  {
   "cell_type": "code",
   "execution_count": null,
   "metadata": {},
   "outputs": [],
   "source": [
    "#停止Car\n",
    "btn0 = widgets.Button(description='STOP！！！')\n",
    "display(btn0)\n",
    "def btn0_eventhandler(obj):\n",
    "    car.stop()\n",
    "    \n",
    "btn0.on_click(btn0_eventhandler)"
   ]
  }
 ],
 "metadata": {
  "kernelspec": {
   "display_name": "Python 3 (ipykernel)",
   "language": "python",
   "name": "python3"
  },
  "language_info": {
   "codemirror_mode": {
    "name": "ipython",
    "version": 3
   },
   "file_extension": ".py",
   "mimetype": "text/x-python",
   "name": "python",
   "nbconvert_exporter": "python",
   "pygments_lexer": "ipython3",
   "version": "3.7.11"
  }
 },
 "nbformat": 4,
 "nbformat_minor": 2
}
