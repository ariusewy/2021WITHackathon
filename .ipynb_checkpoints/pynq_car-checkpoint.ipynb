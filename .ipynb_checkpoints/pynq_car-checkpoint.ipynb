{
 "cells": [
  {
   "cell_type": "markdown",
   "metadata": {},
   "source": [
    "# PYNQ Car using DFROBOT Turtle: 2WD Mobile Robot Platform\n",
    "\n",
    "![](images/pynq_car.jpg)"
   ]
  },
  {
   "cell_type": "markdown",
   "metadata": {},
   "source": [
    "## Aim\n",
    "\n",
    "* This notebook illustrates how to use available APIs for the Geared Motor and DC Motor Driver on PYNQ-Z2 PMOD interface and build the PYNQ Car using DFROBOT Turtle: 2WD Mobile Robot Platform.\n",
    "\n",
    "## References\n",
    "* [TT Geared Motor with Back Shaft](https://www.dfrobot.com/product-100.html) \n",
    "* [2x1.2A DC Motor Driver](https://www.dfrobot.com/product-1705.html)\n",
    "* [Turtle: 2WD Mobile Robot Platform](https://www.dfrobot.com/product-65.html) \n",
    "* [Grove Base Shield V2.0](https://www.seeedstudio.com/Base-Shield-V2.html)   \n",
    "* [Grove Ultrasonic Ranger](https://www.seeedstudio.com/Grove-Ultrasonic-Distance-Sensor.html)   \n",
    "* [Grove Line Finder](https://www.seeedstudio.com/Grove-Line-Finder-v1-1.html)    \n",
    "* [Grove Relay](https://www.seeedstudio.com/Grove-Relay.html)  \n",
    "\n",
    "## Last revised\n",
    "* 21 June 2021\n",
    "    + Initial version\n",
    "---"
   ]
  },
  {
   "cell_type": "markdown",
   "metadata": {},
   "source": [
    "## Load _base_ Overlay"
   ]
  },
  {
   "cell_type": "code",
   "execution_count": 1,
   "metadata": {},
   "outputs": [
    {
     "ename": "ModuleNotFoundError",
     "evalue": "No module named 'pynq'",
     "output_type": "error",
     "traceback": [
      "\u001b[0;31m---------------------------------------------------------------------------\u001b[0m",
      "\u001b[0;31mModuleNotFoundError\u001b[0m                       Traceback (most recent call last)",
      "\u001b[0;32m/var/folders/bk/4mgv8r6d7_x5sxpfrqd123v00000gn/T/ipykernel_40277/4286306892.py\u001b[0m in \u001b[0;36m<module>\u001b[0;34m\u001b[0m\n\u001b[0;32m----> 1\u001b[0;31m \u001b[0;32mfrom\u001b[0m \u001b[0mpynq\u001b[0m\u001b[0;34m.\u001b[0m\u001b[0moverlays\u001b[0m\u001b[0;34m.\u001b[0m\u001b[0mbase\u001b[0m \u001b[0;32mimport\u001b[0m \u001b[0mBaseOverlay\u001b[0m\u001b[0;34m\u001b[0m\u001b[0;34m\u001b[0m\u001b[0m\n\u001b[0m\u001b[1;32m      2\u001b[0m \u001b[0;32mfrom\u001b[0m \u001b[0mpynq_peripherals\u001b[0m \u001b[0;32mimport\u001b[0m \u001b[0mPmodGroveAdapter\u001b[0m\u001b[0;34m,\u001b[0m \u001b[0mArduinoSEEEDGroveAdapter\u001b[0m\u001b[0;34m\u001b[0m\u001b[0;34m\u001b[0m\u001b[0m\n\u001b[1;32m      3\u001b[0m \u001b[0;32mfrom\u001b[0m \u001b[0mdfrobot\u001b[0m \u001b[0;32mimport\u001b[0m \u001b[0mPynqCar\u001b[0m\u001b[0;34m\u001b[0m\u001b[0;34m\u001b[0m\u001b[0m\n\u001b[1;32m      4\u001b[0m \u001b[0;34m\u001b[0m\u001b[0m\n\u001b[1;32m      5\u001b[0m \u001b[0mbase\u001b[0m \u001b[0;34m=\u001b[0m \u001b[0mBaseOverlay\u001b[0m\u001b[0;34m(\u001b[0m\u001b[0;34m'base.bit'\u001b[0m\u001b[0;34m)\u001b[0m\u001b[0;34m\u001b[0m\u001b[0;34m\u001b[0m\u001b[0m\n",
      "\u001b[0;31mModuleNotFoundError\u001b[0m: No module named 'pynq'"
     ]
    }
   ],
   "source": [
    "from pynq.overlays.base import BaseOverlay\n",
    "from pynq_peripherals import PmodGroveAdapter, ArduinoSEEEDGroveAdapter\n",
    "from dfrobot import PynqCar\n",
    "\n",
    "base = BaseOverlay('base.bit')"
   ]
  },
  {
   "cell_type": "markdown",
   "metadata": {},
   "source": [
    "## Control the motor with PYNQ PMOD"
   ]
  },
  {
   "cell_type": "markdown",
   "metadata": {},
   "source": [
    "<div class=\"alert alert-box alert-warning\"><ul>\n",
    "    <h4 class=\"alert-heading\">Make Physical Connections </h4>\n",
    "    <li>Connect the motors to motor driver and the motor driver should be powered by a DC source larger than 6V. </li><li>Connect the green wires from motor driver PWM1 and PWM2 to PMODA pin 2 and PMODB pin 2 respectively, connect the green wire of DIR1 and DIR2 to PMODA pin 6 and PMODB pin 6 repectively. </li><li> The black wires from motor driver should connect to PMOD ground pins.</li><li> The red wires from motor driver are left floating, hence they can be unplugged or cut from the connector.</li>\n",
    "</ul>\n",
    "</div>"
   ]
  },
  {
   "cell_type": "markdown",
   "metadata": {},
   "source": [
    "### Adapter configuration\n",
    "<img src=\"images/adapter1.jpeg\" width = \"150\" height = \"100\" alt=\"PmodGroveAdapter\" align=left />\n",
    "<img src=\"images/speed.jpg\" width = \"150\" height = \"100\" alt=\"ArduinoSEEEDGroveAdapter\" align=center />\n",
    "<img src=\"images/usranger.webp\" width = \"150\" height = \"100\" alt=\"usranger\" align=right />"
   ]
  },
  {
   "cell_type": "code",
   "execution_count": 2,
   "metadata": {},
   "outputs": [],
   "source": [
    "PMODA_adapter = PmodGroveAdapter(base.PMODA, G4='geared_motor')\n",
    "PMODB_adapter = PmodGroveAdapter(base.PMODB, G4='geared_motor')\n",
    "ARDUINO_adapter = ArduinoSEEEDGroveAdapter(base.ARDUINO, D5='grove_line_finder', D6='grove_line_finder', D7='grove_usranger', D8='grove_relay')"
   ]
  },
  {
   "cell_type": "markdown",
   "metadata": {},
   "source": [
    "### Define device object"
   ]
  },
  {
   "cell_type": "code",
   "execution_count": 3,
   "metadata": {},
   "outputs": [],
   "source": [
    "motor1 = PMODA_adapter.G4\n",
    "motor2 = PMODB_adapter.G4\n",
    "line_finder1 = ARDUINO_adapter.D5\n",
    "line_finder2 = ARDUINO_adapter.D6\n",
    "usranger = ARDUINO_adapter.D7# 超声测距传感器\n",
    "motor_sw = ARDUINO_adapter.D8#电机 motor driver"
   ]
  },
  {
   "cell_type": "code",
   "execution_count": 13,
   "metadata": {},
   "outputs": [],
   "source": [
    "# switch on motor driver\n",
    "motor_sw.on()"
   ]
  },
  {
   "cell_type": "code",
   "execution_count": 5,
   "metadata": {},
   "outputs": [],
   "source": [
    "car = PynqCar(motor1, motor2)#（left_motor, right_motor)"
   ]
  },
  {
   "cell_type": "markdown",
   "metadata": {},
   "source": [
    "#### Execute below cell to turn OFF motor driver\n",
    "This will save the battery life when car is not in use"
   ]
  },
  {
   "cell_type": "code",
   "execution_count": 12,
   "metadata": {},
   "outputs": [],
   "source": [
    "# switch off motor driver\n",
    "motor_sw.off()"
   ]
  },
  {
   "cell_type": "markdown",
   "metadata": {},
   "source": [
    "<div class=\"alert alert-box alert-info\"><ul>\n",
    "    <h4 class=\"alert-heading\">Notes </h4>\n",
    "    <li><b>Set the speed:</b> Valid values are from -100 to 100. The car will go forward if the speed is positive and go backword if the speed is negative  </li><li><b>Steering:</b> Valid values are from -100 to 100</li><li> <b>Set the speed offset:</b> The speed offset is used to offset the speed difference of the two motors to make sure the car goes straight with 0 steering</li>\n",
    "</ul>\n",
    "</div>"
   ]
  },
  {
   "cell_type": "markdown",
   "metadata": {},
   "source": [
    "<div class=\"alert alert-box alert-warning\"><ul>\n",
    "    <h4 class=\"alert-heading\">Make Physical Connections </h4>\n",
    "    <li>Insert the SEEED Grove Base Shield into the Arduino connector on the board. Connect two Grove Line Finder modules to D5 and D6 connector of the Grove Base Shield respectively.</li>\n",
    "    <li>Connect the Grove Usranger module to D7 connector of the Grove Base Shield</li>\n",
    "    <li>Connect the Grove Relay module to D8 connector of the Grove Base Shield</li>\n",
    "    <li>The two line finders should be aligned together in front of the turtle.</li>\n",
    "</ul>\n",
    "</div>"
   ]
  },
  {
   "cell_type": "markdown",
   "metadata": {},
   "source": [
    "## Line tracking\n",
    "Two line finders are required"
   ]
  },
  {
   "cell_type": "code",
   "execution_count": 7,
   "metadata": {},
   "outputs": [],
   "source": [
    "car.speed_offset = 0\n",
    "car.speed_diff = 0\n",
    "car.set_speed(20)\n",
    "#Path Mode B \n",
    "while True:\n",
    "    try:\n",
    "        if not line_finder1.line_found() and  not line_finder2.line_found():\n",
    "            car.steering(0)\n",
    "        elif line_finder1.line_found() and not line_finder2.line_found():#偏向左，右转\n",
    "            car.steering(20)\n",
    "        elif not line_finder1.line_found() and line_finder2.line_found():#偏向右，左转\n",
    "            car.steering(-20)\n",
    "        else:\n",
    "            car.stop()\n",
    "    except KeyboardInterrupt:\n",
    "        car.stop()\n",
    "        break"
   ]
  },
  {
   "cell_type": "markdown",
   "metadata": {},
   "source": [
    "---"
   ]
  },
  {
   "cell_type": "markdown",
   "metadata": {},
   "source": [
    "## Barrier avoidance\n",
    "* Detect barrier and stop"
   ]
  },
  {
   "cell_type": "code",
   "execution_count": null,
   "metadata": {},
   "outputs": [],
   "source": [
    "import time\n",
    "\n",
    "car.speed_offset = 0\n",
    "car.speed_diff = 0\n",
    "car.set_speed(40)\n",
    "while True: \n",
    "    try:\n",
    "        if usranger.get_distance() < 20:\n",
    "            car.stop()\n",
    "            car.steering(40)\n",
    "            car.speed_offset = 0\n",
    "            car.speed_diff = 0\n",
    "            car.set_speed(40)\n",
    "        else:\n",
    "            car.set_speed(40)\n",
    "    except KeyboardInterrupt:\n",
    "        car.stop()\n",
    "        break"
   ]
  },
  {
   "cell_type": "markdown",
   "metadata": {},
   "source": [
    "---"
   ]
  },
  {
   "cell_type": "markdown",
   "metadata": {},
   "source": [
    "## Using line finder to score if the car goes stright"
   ]
  },
  {
   "cell_type": "code",
   "execution_count": null,
   "metadata": {},
   "outputs": [],
   "source": [
    "from __future__ import print_function\n",
    "from ipywidgets import interact, interactive, fixed, interact_manual\n",
    "import ipywidgets as widgets\n",
    "from time import sleep"
   ]
  },
  {
   "cell_type": "code",
   "execution_count": null,
   "metadata": {},
   "outputs": [],
   "source": [
    "def control(speed, steering):\n",
    "    global n_error, n_fit\n",
    "    car.set_speed(speed)\n",
    "    car.steering(steering)\n",
    "    if line_finder1.line_found() and line_finder2.line_found():\n",
    "        n_fit += 1\n",
    "    else:\n",
    "        n_error += 1\n",
    "    print('score: %f' % (n_fit/(n_fit+n_error)))"
   ]
  },
  {
   "cell_type": "markdown",
   "metadata": {},
   "source": [
    "### Run the sell below and control the turtle with the widget"
   ]
  },
  {
   "cell_type": "code",
   "execution_count": null,
   "metadata": {},
   "outputs": [],
   "source": [
    "n_error = 0\n",
    "n_fit = 0\n",
    "interact(control, speed=(-100, 100, 1), steering=(-50, 50, 1));"
   ]
  },
  {
   "cell_type": "markdown",
   "metadata": {},
   "source": [
    "### TODO：\n",
    "- 加强控制逻辑\n",
    "- 提高速度点关键点？\n",
    "    -转弯控制：转弯一般要减速，平滑转弯与直角转弯"
   ]
  },
  {
   "cell_type": "code",
   "execution_count": null,
   "metadata": {},
   "outputs": [],
   "source": []
  }
 ],
 "metadata": {
  "kernelspec": {
   "display_name": "Python 3 (ipykernel)",
   "language": "python",
   "name": "python3"
  },
  "language_info": {
   "codemirror_mode": {
    "name": "ipython",
    "version": 3
   },
   "file_extension": ".py",
   "mimetype": "text/x-python",
   "name": "python",
   "nbconvert_exporter": "python",
   "pygments_lexer": "ipython3",
   "version": "3.7.11"
  }
 },
 "nbformat": 4,
 "nbformat_minor": 4
}
