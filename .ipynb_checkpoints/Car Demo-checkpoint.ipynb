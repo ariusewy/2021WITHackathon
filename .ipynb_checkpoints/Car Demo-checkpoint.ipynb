{
 "cells": [
  {
   "cell_type": "code",
   "execution_count": 1,
   "id": "8b722242",
   "metadata": {},
   "outputs": [],
   "source": [
    "#base Overlay 导入"
   ]
  },
  {
   "cell_type": "code",
   "execution_count": 2,
   "id": "fa8959ec",
   "metadata": {},
   "outputs": [],
   "source": [
    "#外设定义与配置"
   ]
  },
  {
   "cell_type": "code",
   "execution_count": 3,
   "id": "6cb3efad",
   "metadata": {},
   "outputs": [],
   "source": [
    "#外设测试"
   ]
  },
  {
   "cell_type": "code",
   "execution_count": 4,
   "id": "e40386b2",
   "metadata": {},
   "outputs": [],
   "source": [
    "#小车class\n",
    "class PynqCar():\n",
    "    def __init__(self, left_motor, right_motor):\n",
    "        self.left_motor = left_motor\n",
    "        self.right_motor = right_motor\n",
    "        self.speed = 0\n",
    "        self.speed_offset = 0\n",
    "        self.speed_diff = 0\n",
    "        self.stop()\n",
    "        \n",
    "    def set_speed(self, speed):\n",
    "        if (abs(speed)+abs(self.speed_offset)+abs(self.speed_diff) < 100):\n",
    "            self.speed = speed\n",
    "            left_speed = self.speed+self.speed_offset+self.speed_diff# offset误差控制，不过首先还是要机械结构控制\n",
    "            right_speed = self.speed-self.speed_offset-self.speed_diff#diff 差速转弯，diff+ 右转， diff- 左转\n",
    "            if left_speed < 0:\n",
    "                self.left_motor.backward()\n",
    "                self.left_motor.set_speed(0-left_speed)\n",
    "            else:\n",
    "                self.left_motor.forward()\n",
    "                self.left_motor.set_speed(left_speed)\n",
    "            if right_speed < 0:\n",
    "                self.right_motor.backward()\n",
    "                self.right_motor.set_speed(0-right_speed)\n",
    "            else:\n",
    "                self.right_motor.forward()\n",
    "                self.right_motor.set_speed(right_speed)\n",
    "        else:\n",
    "            print(\"Error: Speed must be -100 to 100\")\n",
    "            \n",
    "    def stop(self):\n",
    "        self.right_motor.set_speed(0)\n",
    "        self.left_motor.set_speed(0)\n",
    "        \n",
    "    def steering(self,diff):\n",
    "        self.speed_diff = diff\n",
    "        self.set_speed(self.speed)\n",
    "        \n",
    "    def left(self,time):\n",
    "        self.left_motor.backward()\n",
    "        self.right_motor.forward()\n",
    "        self.left_motor.set_speed(10)\n",
    "        self.right_motor.set_speed(10)\n",
    "        time.sleep(time)\n",
    "        self.set_speed(self.speed)\n",
    "        \n",
    "    def right(self,time):\n",
    "        self.left_motor.forward()\n",
    "        self.right_motor.backward()\n",
    "        self.left_motor.set_speed(10)\n",
    "        self.right_motor.set_speed(10)\n",
    "        time.sleep(time)\n",
    "        self.set_speed(self.speed)"
   ]
  },
  {
   "cell_type": "code",
   "execution_count": 7,
   "id": "c11a2575",
   "metadata": {},
   "outputs": [],
   "source": [
    "import time"
   ]
  },
  {
   "cell_type": "code",
   "execution_count": 8,
   "id": "36757ee6",
   "metadata": {},
   "outputs": [],
   "source": [
    "def print(flag):\n",
    "    i = 0\n",
    "    while True:\n",
    "        if flag==0:\n",
    "            i=i+1\n",
    "            print(i)\n",
    "        else:\n",
    "            break\n",
    "    "
   ]
  },
  {
   "cell_type": "code",
   "execution_count": 9,
   "id": "5b08e702",
   "metadata": {},
   "outputs": [
    {
     "ename": "UnboundLocalError",
     "evalue": "local variable 'i' referenced before assignment",
     "output_type": "error",
     "traceback": [
      "\u001b[0;31m---------------------------------------------------------------------------\u001b[0m",
      "\u001b[0;31mUnboundLocalError\u001b[0m                         Traceback (most recent call last)",
      "\u001b[0;32m/var/folders/bk/4mgv8r6d7_x5sxpfrqd123v00000gn/T/ipykernel_40543/1462967868.py\u001b[0m in \u001b[0;36m<module>\u001b[0;34m\u001b[0m\n\u001b[1;32m      1\u001b[0m \u001b[0mflag\u001b[0m \u001b[0;34m=\u001b[0m \u001b[0;36m0\u001b[0m\u001b[0;34m\u001b[0m\u001b[0;34m\u001b[0m\u001b[0m\n\u001b[0;32m----> 2\u001b[0;31m \u001b[0mprint\u001b[0m\u001b[0;34m(\u001b[0m\u001b[0mflag\u001b[0m\u001b[0;34m)\u001b[0m\u001b[0;34m\u001b[0m\u001b[0;34m\u001b[0m\u001b[0m\n\u001b[0m\u001b[1;32m      3\u001b[0m \u001b[0mtime\u001b[0m\u001b[0;34m.\u001b[0m\u001b[0msleep\u001b[0m\u001b[0;34m(\u001b[0m\u001b[0;36m3\u001b[0m\u001b[0;34m)\u001b[0m\u001b[0;34m\u001b[0m\u001b[0;34m\u001b[0m\u001b[0m\n\u001b[1;32m      4\u001b[0m \u001b[0mflag\u001b[0m \u001b[0;34m=\u001b[0m \u001b[0;36m1\u001b[0m\u001b[0;34m\u001b[0m\u001b[0;34m\u001b[0m\u001b[0m\n",
      "\u001b[0;32m/var/folders/bk/4mgv8r6d7_x5sxpfrqd123v00000gn/T/ipykernel_40543/543892623.py\u001b[0m in \u001b[0;36mprint\u001b[0;34m(flag)\u001b[0m\n\u001b[1;32m      2\u001b[0m     \u001b[0;32mwhile\u001b[0m \u001b[0;32mTrue\u001b[0m\u001b[0;34m:\u001b[0m\u001b[0;34m\u001b[0m\u001b[0;34m\u001b[0m\u001b[0m\n\u001b[1;32m      3\u001b[0m         \u001b[0;32mif\u001b[0m \u001b[0mflag\u001b[0m\u001b[0;34m==\u001b[0m\u001b[0;36m0\u001b[0m\u001b[0;34m:\u001b[0m\u001b[0;34m\u001b[0m\u001b[0;34m\u001b[0m\u001b[0m\n\u001b[0;32m----> 4\u001b[0;31m             \u001b[0mi\u001b[0m\u001b[0;34m=\u001b[0m\u001b[0mi\u001b[0m\u001b[0;34m+\u001b[0m\u001b[0;36m1\u001b[0m\u001b[0;34m\u001b[0m\u001b[0;34m\u001b[0m\u001b[0m\n\u001b[0m\u001b[1;32m      5\u001b[0m             \u001b[0mprint\u001b[0m\u001b[0;34m(\u001b[0m\u001b[0mi\u001b[0m\u001b[0;34m)\u001b[0m\u001b[0;34m\u001b[0m\u001b[0;34m\u001b[0m\u001b[0m\n\u001b[1;32m      6\u001b[0m         \u001b[0;32melse\u001b[0m\u001b[0;34m:\u001b[0m\u001b[0;34m\u001b[0m\u001b[0;34m\u001b[0m\u001b[0m\n",
      "\u001b[0;31mUnboundLocalError\u001b[0m: local variable 'i' referenced before assignment"
     ]
    }
   ],
   "source": [
    "flag = 0\n",
    "print(flag)\n",
    "time.sleep(3)\n",
    "flag = 1"
   ]
  },
  {
   "cell_type": "code",
   "execution_count": null,
   "id": "c3f219e7",
   "metadata": {},
   "outputs": [],
   "source": []
  }
 ],
 "metadata": {
  "kernelspec": {
   "display_name": "Python 3 (ipykernel)",
   "language": "python",
   "name": "python3"
  },
  "language_info": {
   "codemirror_mode": {
    "name": "ipython",
    "version": 3
   },
   "file_extension": ".py",
   "mimetype": "text/x-python",
   "name": "python",
   "nbconvert_exporter": "python",
   "pygments_lexer": "ipython3",
   "version": "3.7.11"
  }
 },
 "nbformat": 4,
 "nbformat_minor": 5
}
